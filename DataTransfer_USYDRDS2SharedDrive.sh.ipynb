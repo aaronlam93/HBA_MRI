{
 "cells": [
  {
   "cell_type": "markdown",
   "id": "f3c192e3",
   "metadata": {},
   "source": [
    "# This code is used to transfer data from the RDS to the HBA shared drive. It uses smbclient. Written by Aaron Lam - 16/2/23"
   ]
  },
  {
   "cell_type": "code",
   "execution_count": null,
   "id": "9477ae5f",
   "metadata": {},
   "outputs": [],
   "source": [
    "#!/bin/bash\n",
    "\n",
    "#SETUP\n",
    "hpc_dir=\"/scratch/RDS-FSC-HBA-RW/alam2002\" #HPC where your MRIs are located\n",
    "rds_dir=\"fs2.shared.sydney.edu.au/BMRI/\"\n",
    "mri_dir=\"CRU/HBA/ABC Staff and Student Folders/Aaron/transfer_test\" #where you want your MRIs to be\n",
    "unikey=\"alam2002\""
   ]
  },
  {
   "cell_type": "markdown",
   "id": "6b74bb1d",
   "metadata": {},
   "source": [
    "You need to login to the HPC. It will ask for your HPC password"
   ]
  },
  {
   "cell_type": "code",
   "execution_count": null,
   "id": "88fa1ace",
   "metadata": {},
   "outputs": [],
   "source": [
    "ssh -Y $unikey@hpc.sydney.edu.au"
   ]
  },
  {
   "cell_type": "markdown",
   "id": "ecc82c54",
   "metadata": {},
   "source": [
    "Then move into the directory where your MRIs are located then connect to the HBA shared drive via smbclient. It will then promopt you for your password again"
   ]
  },
  {
   "cell_type": "code",
   "execution_count": null,
   "id": "279d451b",
   "metadata": {},
   "outputs": [],
   "source": [
    "cd $hpc_dir\n",
    "\n",
    "smbclient $rds_dir -U $unikey -W SHARED"
   ]
  },
  {
   "cell_type": "markdown",
   "id": "b9862567",
   "metadata": {},
   "source": [
    "Once you are connected, you need to navigate to where your files are."
   ]
  },
  {
   "cell_type": "code",
   "execution_count": null,
   "id": "41245d81",
   "metadata": {},
   "outputs": [],
   "source": [
    "cd $mri_dir"
   ]
  },
  {
   "cell_type": "markdown",
   "id": "2dd03dbf",
   "metadata": {},
   "source": [
    "These are the arguments for smbclient"
   ]
  },
  {
   "cell_type": "code",
   "execution_count": null,
   "id": "184fd2fa",
   "metadata": {},
   "outputs": [],
   "source": [
    "prompt #default prompts = yes, by using prompt argument it turns it off.\n",
    "recurse #default recurse = no, by stating recurse you will turn it on \n",
    "#and it will pull everything in the subfolders\n",
    "mput *\n"
   ]
  }
 ],
 "metadata": {
  "kernelspec": {
   "display_name": "Bash",
   "language": "bash",
   "name": "bash"
  },
  "language_info": {
   "codemirror_mode": "shell",
   "file_extension": ".sh",
   "mimetype": "text/x-sh",
   "name": "bash"
  }
 },
 "nbformat": 4,
 "nbformat_minor": 5
}
